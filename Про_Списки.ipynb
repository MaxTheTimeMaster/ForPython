{
  "nbformat": 4,
  "nbformat_minor": 0,
  "metadata": {
    "colab": {
      "provenance": [],
      "authorship_tag": "ABX9TyMB5/CbPcU4iIuBI0BSNkW/",
      "include_colab_link": true
    },
    "kernelspec": {
      "name": "python3",
      "display_name": "Python 3"
    },
    "language_info": {
      "name": "python"
    }
  },
  "cells": [
    {
      "cell_type": "markdown",
      "metadata": {
        "id": "view-in-github",
        "colab_type": "text"
      },
      "source": [
        "<a href=\"https://colab.research.google.com/github/MaxTheTimeMaster/ForPython/blob/main/list%3F%3F.ipynb\" target=\"_parent\"><img src=\"https://colab.research.google.com/assets/colab-badge.svg\" alt=\"Open In Colab\"/></a>"
      ]
    },
    {
      "cell_type": "markdown",
      "source": [
        "The time is ripe... \\\\\n",
        "Время пришло познакомиться с офигенной и используемой везде структурой данных которая называется $list$"
      ],
      "metadata": {
        "id": "A8RsC1k0jJPB"
      }
    },
    {
      "cell_type": "markdown",
      "source": [
        "Для этого поговорим немного про компьютер и внутреннее устройства так называемого списка(list)."
      ],
      "metadata": {
        "id": "RFVI-AmQjlUI"
      }
    },
    {
      "cell_type": "markdown",
      "source": [
        "Итак, теперь после небольшого экскурса, список это на самом деле набор ссылок которые мы запихнули подряд на какие то обьекты."
      ],
      "metadata": {
        "id": "wXawnxOojuzn"
      }
    },
    {
      "cell_type": "markdown",
      "source": [
        "На самом деле этими обьектами может быть все что угодно, и это придает такую гибкость этой структуре данных, например это может быть список списков чисел(матрица) или еще что то другое, возможности безграничны. К сожалению за это приходится платить скопостью исполнения программ, питоновские списки сильно уступают векторам в с++ и $c$. Для решения этой проблемы есть модуль $numpy$, но вряд ли мы с вами его затронем, только если останется время."
      ],
      "metadata": {
        "id": "HBsuYedVkJ3s"
      }
    },
    {
      "cell_type": "markdown",
      "source": [
        "Синтаксис достаточно прост. Вот ссылочка на некоторые методы списков которые можно вызывать (наша шпаргалка) \\\\\n",
        "https://pythonworld.ru/tipy-dannyx-v-python/spiski-list-funkcii-i-metody-spiskov.html."
      ],
      "metadata": {
        "id": "ewC9G3JQkxnr"
      }
    },
    {
      "cell_type": "markdown",
      "source": [
        "Создаем список пустой."
      ],
      "metadata": {
        "id": "dSdHopmVlDhB"
      }
    },
    {
      "cell_type": "code",
      "execution_count": null,
      "metadata": {
        "id": "KEkOnK57jHXG"
      },
      "outputs": [],
      "source": [
        "a = list()\n",
        "# Или\n",
        "a = []"
      ]
    },
    {
      "cell_type": "markdown",
      "source": [
        "Создаем список с заданными значениями через запятую."
      ],
      "metadata": {
        "id": "J5-XzzbSlIkR"
      }
    },
    {
      "cell_type": "code",
      "source": [
        "a = [1, 2, \"Hi\"]\n",
        "print(a)\n",
        "# Или\n",
        "a = []\n",
        "a.append(1)\n",
        "a.append(2)\n",
        "a.append(\"Hi\")\n",
        "print(a)"
      ],
      "metadata": {
        "colab": {
          "base_uri": "https://localhost:8080/"
        },
        "id": "Zuxogfr8lLid",
        "outputId": "bf7f28ac-dfdf-4994-eff7-f8c553e21157"
      },
      "execution_count": null,
      "outputs": [
        {
          "output_type": "stream",
          "name": "stdout",
          "text": [
            "[1, 2, 'Hi']\n",
            "[1, 2, 'Hi']\n"
          ]
        }
      ]
    },
    {
      "cell_type": "markdown",
      "source": [
        "Команда .append() принимает в себя строку или число или любой другой обьект и добавляет его в конец списка."
      ],
      "metadata": {
        "id": "jGJyumWXldj5"
      }
    },
    {
      "cell_type": "code",
      "source": [
        "a = list()\n",
        "a.append(5)\n",
        "a.append(57)\n",
        "print(*a, sep=' ')"
      ],
      "metadata": {
        "colab": {
          "base_uri": "https://localhost:8080/"
        },
        "id": "XzrFKXcSlnXC",
        "outputId": "59df0355-b3f2-463d-b231-a7f4325bb0a4"
      },
      "execution_count": 3,
      "outputs": [
        {
          "output_type": "stream",
          "name": "stdout",
          "text": [
            "5 57\n"
          ]
        }
      ]
    },
    {
      "cell_type": "markdown",
      "source": [
        "Хотим что то удалить из списка, как это сделать? \\\\\n",
        "Удалить последний элемент это .pop (работает очень быстро) \\\\\n",
        "Удалить элемент по индексу это .pop(индекс) (работает за длину списка)"
      ],
      "metadata": {
        "id": "ciWFZIk3mMgO"
      }
    },
    {
      "cell_type": "code",
      "source": [
        "a = [1, 2, 57, 5]\n",
        "a.pop()\n",
        "print(a)\n",
        "a.pop(0)\n",
        "print(a)"
      ],
      "metadata": {
        "colab": {
          "base_uri": "https://localhost:8080/"
        },
        "id": "cK9RzfDdmR2P",
        "outputId": "86084fa2-19db-4d0f-cde4-d821793ea83b"
      },
      "execution_count": null,
      "outputs": [
        {
          "output_type": "stream",
          "name": "stdout",
          "text": [
            "[1, 2, 57]\n",
            "[2, 57]\n"
          ]
        }
      ]
    },
    {
      "cell_type": "markdown",
      "source": [
        "Хотим взять элемент который стоит на месте с номером $i$, все как со строчками. Пишем название списка, рядом с ним квадратные скобочки и внутри число $i - 1$"
      ],
      "metadata": {
        "id": "co_HO6y2qNxk"
      }
    },
    {
      "cell_type": "code",
      "source": [
        "a = [5, 4, 3, 9, 100]\n",
        "print(a[0])\n",
        "print(a[1])\n",
        "print(a[4]) # Это чит, будьте аккуратны с таким"
      ],
      "metadata": {
        "colab": {
          "base_uri": "https://localhost:8080/"
        },
        "id": "ThGyG_BmqVZ3",
        "outputId": "07b843b1-7b93-461f-ec17-4fd250266d0d"
      },
      "execution_count": 4,
      "outputs": [
        {
          "output_type": "stream",
          "name": "stdout",
          "text": [
            "5\n",
            "4\n",
            "100\n"
          ]
        }
      ]
    },
    {
      "cell_type": "markdown",
      "source": [
        "Как пройти по всем элементам списка?? Для этого есть наш старый друг цикл $for$"
      ],
      "metadata": {
        "id": "yGCMDq_Uqvzx"
      }
    },
    {
      "cell_type": "code",
      "source": [
        "a = [1, 57, \"Hello\", b'\\x01\\x02', [0, 0, 0], {2 : 57}, {12}, \"This is wrong\"]\n",
        "for i in a: # То есть i бежит по элементам списка и мы его печатаем\n",
        "  print(i)"
      ],
      "metadata": {
        "colab": {
          "base_uri": "https://localhost:8080/"
        },
        "id": "NFtpcwapq1Eq",
        "outputId": "f2acc892-ab01-4dd9-f9f4-92d6e3097dcf"
      },
      "execution_count": null,
      "outputs": [
        {
          "output_type": "stream",
          "name": "stdout",
          "text": [
            "1\n",
            "57\n",
            "Hello\n",
            "b'\\x01\\x02'\n",
            "[0, 0, 0]\n",
            "{2: 57}\n",
            "{12}\n",
            "This is wrong\n"
          ]
        }
      ]
    },
    {
      "cell_type": "markdown",
      "source": [
        "У списка можно взять длину, и пройти через функцию range()"
      ],
      "metadata": {
        "id": "bkS_-w0QrPgC"
      }
    },
    {
      "cell_type": "code",
      "source": [
        "import random\n",
        "arr = [random.randint(1, 10) for _ in range(random.randint(10, 20))] # Some magic happens\n",
        "print(arr)\n",
        "# Теперь наш код, про список аrr по факту ничего не знаем, там что то страшное произошло\n",
        "s = len(arr)\n",
        "print(s)\n",
        "\n",
        "for i in range(len(arr)): # [0, 1, 2... 11]\n",
        "  # print(i) # for i in range(s)\n",
        "  print(arr[i], end=' ') # Печатаем что? Элемент который находится на месте i, где i бежит от 0 до длины нашего списка."
      ],
      "metadata": {
        "colab": {
          "base_uri": "https://localhost:8080/"
        },
        "id": "STfDWzb7rTfP",
        "outputId": "03824813-6131-4844-87f5-7281e5ae953e"
      },
      "execution_count": 6,
      "outputs": [
        {
          "output_type": "stream",
          "name": "stdout",
          "text": [
            "[1, 6, 10, 7, 1, 10, 4, 10, 7, 1, 7, 3]\n",
            "12\n",
            "1 6 10 7 1 10 4 10 7 1 7 3 "
          ]
        }
      ]
    },
    {
      "cell_type": "markdown",
      "source": [
        "Теперь меняем элементы списка, это достаточно просто, просто пишем a[i] = то чему мы хотим"
      ],
      "metadata": {
        "id": "La8OICWysY8P"
      }
    },
    {
      "cell_type": "code",
      "source": [
        "a = [1, 2, 3]\n",
        "a[1] = 4\n",
        "print(a)\n",
        "\n",
        "for i in range(len(a)):\n",
        "  a[i] = a[i] * a[i]\n",
        "print(a)"
      ],
      "metadata": {
        "colab": {
          "base_uri": "https://localhost:8080/"
        },
        "id": "FqxYj2GysfhU",
        "outputId": "9e8869c6-1a0f-42ed-c203-d90c2d34f624"
      },
      "execution_count": 8,
      "outputs": [
        {
          "output_type": "stream",
          "name": "stdout",
          "text": [
            "[1, 4, 3]\n",
            "[1, 16, 9]\n"
          ]
        }
      ]
    },
    {
      "cell_type": "markdown",
      "source": [
        "Задача: вам дан список a в котором лежат случайные числа от 1 до 100, нужно вывести только те числа которые делятся на 4 и меньше 50."
      ],
      "metadata": {
        "id": "VVRP2Kcesn9L"
      }
    },
    {
      "cell_type": "code",
      "source": [
        "import numpy as np\n",
        "np.random.seed(57)\n",
        "a = [np.random.randint(1, 100) for _ in range(np.random.randint(20, 40))]\n",
        "\n",
        "# Your code here\n",
        "# a = [4, 5, 6, 8]\n",
        "print(a)\n",
        "for i in a:\n",
        "  if i < 50 and i % 4 == 0:\n",
        "    print(i)\n",
        "\n"
      ],
      "metadata": {
        "id": "6a_Nw9ffs1zO",
        "colab": {
          "base_uri": "https://localhost:8080/"
        },
        "outputId": "65f1d5ee-dda3-4b91-ffad-c0e555465444"
      },
      "execution_count": 10,
      "outputs": [
        {
          "output_type": "stream",
          "name": "stdout",
          "text": [
            "[87, 6, 23, 80, 99, 57, 41, 82, 38, 73, 12, 89, 82, 59, 2, 99, 49, 2, 71, 69, 6, 90, 55, 51, 15, 27, 61, 86, 19, 65, 13, 14, 96, 3, 3]\n",
            "12\n"
          ]
        }
      ]
    },
    {
      "cell_type": "markdown",
      "source": [
        "Задача: посчитайте сумму чисел которые вводятся с клавиатуры. Для этого введите эти числа с клавиатуры, а затем воспользуйтесь функцией sum(список), которая просуммирует ваш список (значение которое получится стоит записать в переменную чтобы оно никуда не исчезло)."
      ],
      "metadata": {
        "id": "KnCwj-qduW8y"
      }
    },
    {
      "cell_type": "code",
      "source": [
        "# Your code here\n",
        "s = list(map(int, input().split()))\n",
        "v = len(s)\n",
        "sm = sum(s)\n",
        "print(sm)\n",
        "cnt = 0\n",
        "for i in range(v):\n",
        "  cnt += s[i]\n",
        "print(cnt)"
      ],
      "metadata": {
        "id": "Gau-YhQ9vNBl",
        "colab": {
          "base_uri": "https://localhost:8080/"
        },
        "outputId": "95d56eaf-dc18-495e-b833-63c267d04575"
      },
      "execution_count": 11,
      "outputs": [
        {
          "output_type": "stream",
          "name": "stdout",
          "text": [
            "1 2 3\n",
            "6\n",
            "6\n"
          ]
        }
      ]
    },
    {
      "cell_type": "markdown",
      "source": [
        "Задача: дан список из строк, в начале уберите все строки которые начинаются на букву \"a\", а затем выведите строчку которая будет суммой всех ваших строк которые остались."
      ],
      "metadata": {
        "id": "78gm9yvotNDY"
      }
    },
    {
      "cell_type": "code",
      "source": [
        "import numpy as np\n",
        "import hashlib\n",
        "np.random.seed(57)\n",
        "a = list()\n",
        "for i in range(np.random.randint(20, 50)):\n",
        "  a.append(chr(np.random.randint(97, 100)) + ''.join(chr(np.random.randint(97, 97 + 26)) for _ in range(np.random.randint(5, 10))))\n",
        "print(a) # Чтобы легче визуализировать что происходит напечатаем его перед нашим кодом\n",
        "# Your code here"
      ],
      "metadata": {
        "colab": {
          "base_uri": "https://localhost:8080/"
        },
        "id": "03FYlRaZtdFq",
        "outputId": "21d9b1c1-ad6e-46cb-9332-b5c7dd35f218"
      },
      "execution_count": null,
      "outputs": [
        {
          "output_type": "stream",
          "name": "stdout",
          "text": [
            "['ccyirx', 'blyrbc', 'agefzws', 'cvsarm', 'bcbdfxfm', 'cqgqxe', 'ciyuowkx', 'czpfpfn', 'ajjxxpta', 'bmvnyzojv', 'awmczceblg', 'cxezxll', 'brycoy', 'cyjzymlvnp', 'agkouqbeob', 'chzhvu', 'algsgzzc', 'apcmwuwg', 'becltwhza', 'ahfdbgckk', 'adsmmnkjm', 'blglnrv', 'akrehtoe', 'alrzywj', 'bqqrda', 'cdxedv', 'aavqedf', 'cjrinacqyp', 'bovniaedzc', 'ccqihmyn', 'cebywmv', 'aggrjaam', 'byhjvkvg', 'brkxrhkjt', 'ccspdt']\n"
          ]
        }
      ]
    },
    {
      "cell_type": "markdown",
      "source": [
        "Давайте немного порисуем графики, попробуем нарисовать параболу и синусоиду, для этого нам нужно много точек которые лежат на этих кривых, то есть пар чисел x, x * x, чтобы их сохранить используйте списки. По факту ваша задача записать числа от -100 до 100 и их квадраты в списки x и y которые даны."
      ],
      "metadata": {
        "id": "06TCAcdivP9f"
      }
    },
    {
      "cell_type": "code",
      "source": [
        "import matplotlib.pyplot as plt\n",
        "\n",
        "\n",
        "x = list()\n",
        "y = list()\n",
        "\n",
        "#Your code here\n",
        "\n",
        "\n",
        "\n",
        "\n",
        "# Красивая картинка??\n",
        "plt.figure(figsize=(4, 4))\n",
        "plt.plot(x, y, color=\"red\")\n",
        "plt.show()\n"
      ],
      "metadata": {
        "colab": {
          "base_uri": "https://localhost:8080/",
          "height": 368
        },
        "id": "5zy0Ykd3vsVb",
        "outputId": "7e51d001-64c6-4b07-ee7d-dcb2f637dd1a"
      },
      "execution_count": null,
      "outputs": [
        {
          "output_type": "display_data",
          "data": {
            "text/plain": [
              "<Figure size 400x400 with 1 Axes>"
            ],
            "image/png": "[encoded data removed]"
          },
          "metadata": {}
        }
      ]
    },
    {
      "cell_type": "markdown",
      "source": [
        "Пришла пора избавиться от черной магии и разобраться что делает наша строчка, чтобы получше понимать что с ней делать."
      ],
      "metadata": {
        "id": "WTcVDyqNn9r5"
      }
    },
    {
      "cell_type": "code",
      "source": [
        "# a = list(map(int, input().split())) -->\n",
        "a = input()\n",
        "a = a.split() # .split разбивает строку по пробелам, получается список строк\n",
        "print(a)\n",
        "# Дальше функция map, она применяет что то ко всем элементам списка.\n",
        "# В нашем случае это int, то есть она делает из списка строчек список чисел\n",
        "a = list(map(int, a))\n",
        "print(a)\n",
        "a = list(map(str, a))\n",
        "print(a)\n",
        "# Если вам очень страшно, то можно написать через цикл for\n",
        "for i in range(len(a)):\n",
        "  a[i] = int(a[i])\n",
        "print(a)"
      ],
      "metadata": {
        "colab": {
          "base_uri": "https://localhost:8080/"
        },
        "id": "9nymDGlIoMGB",
        "outputId": "cacc0eb4-fefd-454a-cebb-da5af229b02d"
      },
      "execution_count": null,
      "outputs": [
        {
          "output_type": "stream",
          "name": "stdout",
          "text": [
            "1 2 3\n",
            "['1', '2', '3']\n",
            "[1, 2, 3]\n",
            "['1', '2', '3']\n",
            "[1, 2, 3]\n"
          ]
        }
      ]
    },
    {
      "cell_type": "markdown",
      "source": [
        "Чтобы не оставлять вас совсем без магии, подумайте, что выведет такой код."
      ],
      "metadata": {
        "id": "tWqFzVlg0rv0"
      }
    },
    {
      "cell_type": "code",
      "source": [
        "from copy import deepcopy\n",
        "a = [1, 2, 3]\n",
        "b = a\n",
        "b[0] = 57\n",
        "print(a)\n",
        "print(b)\n",
        "# 1 2 3\n",
        "# 57 2 3\n"
      ],
      "metadata": {
        "id": "M-NeeWpP0v74",
        "colab": {
          "base_uri": "https://localhost:8080/"
        },
        "outputId": "236d74f5-c44e-483f-fa79-fdd8e31ca16e"
      },
      "execution_count": 13,
      "outputs": [
        {
          "output_type": "stream",
          "name": "stdout",
          "text": [
            "[1, 2, 3]\n",
            "[57, 2, 3]\n"
          ]
        }
      ]
    },
    {
      "cell_type": "markdown",
      "source": [
        "Как ввести n чисел с клавиатуры в одной строчке через пробел??"
      ],
      "metadata": {
        "id": "uoONENS2p5b8"
      }
    },
    {
      "cell_type": "code",
      "source": [
        "a = input().split()\n",
        "print(a)\n",
        "for i in range(len(a)):\n",
        "  a[i] = int(a[i])\n",
        "print(a)"
      ],
      "metadata": {
        "id": "33Hoh1qKp_uH"
      },
      "execution_count": null,
      "outputs": []
    }
  ]
}
