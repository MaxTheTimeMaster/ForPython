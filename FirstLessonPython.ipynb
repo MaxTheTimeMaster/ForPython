{
  "nbformat": 4,
  "nbformat_minor": 0,
  "metadata": {
    "colab": {
      "provenance": [],
      "authorship_tag": "ABX9TyP1RxzAsi+MwBLkrVvLVA2k",
      "include_colab_link": true
    },
    "kernelspec": {
      "name": "python3",
      "display_name": "Python 3"
    },
    "language_info": {
      "name": "python"
    }
  },
  "cells": [
    {
      "cell_type": "markdown",
      "metadata": {
        "id": "view-in-github",
        "colab_type": "text"
      },
      "source": [
        "<a href=\"https://colab.research.google.com/github/MaxTheTimeMaster/ForPython/blob/main/FirstLessonPython.ipynb\" target=\"_parent\"><img src=\"https://colab.research.google.com/assets/colab-badge.svg\" alt=\"Open In Colab\"/></a>"
      ]
    },
    {
      "cell_type": "markdown",
      "source": [
        "Kobalt_krut\n",
        "Kobalt2023"
      ],
      "metadata": {
        "id": "519YfeB8I91n"
      }
    },
    {
      "cell_type": "markdown",
      "source": [
        "Питон является интерпретируемым(не важно пока, что это значит) языком  программировани, поэтому выполняется построчно:"
      ],
      "metadata": {
        "id": "G7oGzwJhG-XY"
      }
    },
    {
      "cell_type": "code",
      "source": [
        "import sys #Выполняется первая строчка\n",
        "n = list(map(int, input().split())) #Выполняется вторая строчка\n",
        "print(n[0]) #Выполняется третья строчка\n",
        "риврвпрвапрвапр #Программа оборвалась, так как написано что то странное\n",
        "print(\"Hello world\") #Выполняется четвертая строчка\n",
        "sys.exit(0) #Выполняется пятая строчка"
      ],
      "metadata": {
        "id": "nofm3eRAHKsm"
      },
      "execution_count": null,
      "outputs": []
    },
    {
      "cell_type": "markdown",
      "source": [
        "Команда print() - с английского дословно напечатай \\\n",
        "В скобки вы указываете параметры которые передаете \\\n",
        "Например:"
      ],
      "metadata": {
        "id": "bB4J7i0jC5cp"
      }
    },
    {
      "cell_type": "code",
      "source": [
        "print(42)"
      ],
      "metadata": {
        "colab": {
          "base_uri": "https://localhost:8080/"
        },
        "id": "BbM2Z-yhEcq1",
        "outputId": "c7f3a9ad-31c8-41c6-df70-b48b107e338b"
      },
      "execution_count": 9,
      "outputs": [
        {
          "output_type": "stream",
          "name": "stdout",
          "text": [
            "42\n"
          ]
        }
      ]
    },
    {
      "cell_type": "code",
      "execution_count": 10,
      "metadata": {
        "colab": {
          "base_uri": "https://localhost:8080/"
        },
        "id": "RIcxmFV5CZjB",
        "outputId": "3755e401-ef82-4a30-dcd2-74cc980aed91"
      },
      "outputs": [
        {
          "output_type": "stream",
          "name": "stdout",
          "text": [
            "Hello world\n"
          ]
        }
      ],
      "source": [
        "print('Hello world')"
      ]
    },
    {
      "cell_type": "markdown",
      "source": [
        "Команда input() - с английского дословно ввести, считывает ровно 1 строчку того, что вы вводите на клавиатуре.\n",
        "\n",
        "Например вы ввели число 57, тогда input() выдаст нам это число"
      ],
      "metadata": {
        "id": "bmTd0Db8CahP"
      }
    },
    {
      "cell_type": "code",
      "source": [
        "#input() = 57\n",
        "print(\"Введите число или строку:\")\n",
        "print(input())"
      ],
      "metadata": {
        "id": "1AFSeeBfCbGJ"
      },
      "execution_count": null,
      "outputs": []
    },
    {
      "cell_type": "markdown",
      "source": [
        "Если мы хотим что то запомнить на будущее, для этого есть переменные. \\\n",
        "Это такие коробки в памяти в которые мы можем записать то, что не хотим забыть. \\\n",
        "Например мы хотим запомнить что нам ввели с клавиатуры. \\\n",
        "Тогда можно написать:"
      ],
      "metadata": {
        "id": "I2BTgFYBCbc0"
      }
    },
    {
      "cell_type": "code",
      "source": [
        "Nasha_Peremennaya = input()\n",
        "print(\"Ошибки не было\")\n",
        "print(Nasha_Peremennaya)"
      ],
      "metadata": {
        "colab": {
          "base_uri": "https://localhost:8080/"
        },
        "id": "6yZV1h-3GsJ_",
        "outputId": "304d4a26-f0f9-468f-f49e-8ad7510ef8d2"
      },
      "execution_count": 11,
      "outputs": [
        {
          "output_type": "stream",
          "name": "stdout",
          "text": [
            "57\n",
            "Ошибки не было\n",
            "57\n"
          ]
        }
      ]
    }
  ]
}