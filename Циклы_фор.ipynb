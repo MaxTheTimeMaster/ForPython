{
  "nbformat": 4,
  "nbformat_minor": 0,
  "metadata": {
    "colab": {
      "provenance": [],
      "authorship_tag": "ABX9TyOZ5iRFc4eZxXMyCyr9JgCH",
      "include_colab_link": true
    },
    "kernelspec": {
      "name": "python3",
      "display_name": "Python 3"
    },
    "language_info": {
      "name": "python"
    }
  },
  "cells": [
    {
      "cell_type": "markdown",
      "metadata": {
        "id": "view-in-github",
        "colab_type": "text"
      },
      "source": [
        "<a href=\"https://colab.research.google.com/github/MaxTheTimeMaster/ForPython/blob/main/For_what%3F.ipynb\" target=\"_parent\"><img src=\"https://colab.research.google.com/assets/colab-badge.svg\" alt=\"Open In Colab\"/></a>"
      ]
    },
    {
      "cell_type": "markdown",
      "source": [
        "  Сегодня будет одна из основных конструций языка, которая называется цикл $for$."
      ],
      "metadata": {
        "id": "2Y4JOj57_r2g"
      }
    },
    {
      "cell_type": "code",
      "execution_count": null,
      "metadata": {
        "colab": {
          "base_uri": "https://localhost:8080/"
        },
        "id": "B4bOIH3V_Ta-",
        "outputId": "9670a489-ce2e-45fc-810a-0b755b63dd25"
      },
      "outputs": [
        {
          "output_type": "stream",
          "name": "stdout",
          "text": [
            "0\n",
            "1\n",
            "2\n",
            "3\n",
            "4\n",
            "5\n",
            "6\n",
            "7\n",
            "8\n",
            "9\n"
          ]
        }
      ],
      "source": [
        "for i in range(10): # 10 раз выполни то что находится внутри, i - счетчик цикла\n",
        "  print(i)"
      ]
    },
    {
      "cell_type": "markdown",
      "source": [
        "Разберемся подробнее что тут происходит, $range(x)$ возвращает последовательность чисел от $0$ до $x - 1$. Переменная $i$ используется как счетчик и идет от по числам которые лежат в $range$ последовательно."
      ],
      "metadata": {
        "id": "6PN8ofbMAYhU"
      }
    },
    {
      "cell_type": "code",
      "source": [
        "r = range(10)\n",
        "print(r)"
      ],
      "metadata": {
        "colab": {
          "base_uri": "https://localhost:8080/"
        },
        "id": "wvIZwDv1BG61",
        "outputId": "bf426a36-9399-4e2b-e635-25e3b2deefb0"
      },
      "execution_count": null,
      "outputs": [
        {
          "output_type": "stream",
          "name": "stdout",
          "text": [
            "range(0, 10)\n"
          ]
        }
      ]
    },
    {
      "cell_type": "markdown",
      "source": [
        "Как мы видели, умеем выводить все числа от 0 до 9, давайте научимся выводить все числа которые имеют в своей записи цифру 2 для чисел от 0 до 100"
      ],
      "metadata": {
        "id": "_F4wIcyXBeLE"
      }
    },
    {
      "cell_type": "code",
      "source": [
        "for i in range(101):\n",
        "  # Чтобы i было от 0 до 100, нужно чтобы число было на 1 больше\n",
        "  if '2' in str(i):\n",
        "    print(i, end = ' ')"
      ],
      "metadata": {
        "colab": {
          "base_uri": "https://localhost:8080/"
        },
        "id": "906uuD_iBuM8",
        "outputId": "0fdeccf0-8159-44e1-fdbf-dc2848d9042f"
      },
      "execution_count": null,
      "outputs": [
        {
          "output_type": "stream",
          "name": "stdout",
          "text": [
            "2 12 20 21 22 23 24 25 26 27 28 29 32 42 52 62 72 82 92 "
          ]
        }
      ]
    },
    {
      "cell_type": "markdown",
      "source": [
        "На самом деле функция $range()$ принимает 3 аргумента, но только 1 из них обязателен, это конец последовательности. Вообще она вызывается от трех аргументов $range(a, b, c)$ где $a$ начиная с какого числа идти, $b$ каким числом закончить, $c$ шаг с которым мы идем, по умолчанию если один параметр x, то будет вызвана функция $range(0, x, 1)$  "
      ],
      "metadata": {
        "id": "oQZPmBXuCLN1"
      }
    },
    {
      "cell_type": "code",
      "source": [
        "for my_cnt in range(2, 10, 4): # Тоже что range(10)\n",
        "  print(my_cnt, end = ' ')"
      ],
      "metadata": {
        "colab": {
          "base_uri": "https://localhost:8080/"
        },
        "id": "Vv-w0Wm4Cs3m",
        "outputId": "78da4e25-29ef-4ac4-9808-0c8ccbd3bb33"
      },
      "execution_count": null,
      "outputs": [
        {
          "output_type": "stream",
          "name": "stdout",
          "text": [
            "2 6 "
          ]
        }
      ]
    },
    {
      "cell_type": "code",
      "source": [
        "\n",
        "\n",
        "for i in range(0, 10, 2):\n",
        "  print(i, end = ' ')"
      ],
      "metadata": {
        "colab": {
          "base_uri": "https://localhost:8080/"
        },
        "id": "2Uc3cqXOC0SA",
        "outputId": "5f4153f9-ad29-421e-9eef-d42b74d1bb60"
      },
      "execution_count": null,
      "outputs": [
        {
          "output_type": "stream",
          "name": "stdout",
          "text": [
            "0 2 4 6 8 "
          ]
        }
      ]
    },
    {
      "cell_type": "code",
      "source": [
        "for i in range(0):\n",
        "  print(i, end = ' ')"
      ],
      "metadata": {
        "id": "hRUDdyuRC7jc"
      },
      "execution_count": null,
      "outputs": []
    },
    {
      "cell_type": "markdown",
      "source": [
        "Иногда переменная $i$ нам не нужна внутри цикла, поэтому существует универсальная переменная _ которая не засоряет пространство имен."
      ],
      "metadata": {
        "id": "u3VGxLGODFKl"
      }
    },
    {
      "cell_type": "code",
      "source": [
        "for _ in range(10):\n",
        "  for _ in range(2):\n",
        "    print(_, end = ' ')"
      ],
      "metadata": {
        "colab": {
          "base_uri": "https://localhost:8080/"
        },
        "id": "1PU-46fhDg18",
        "outputId": "78d3e589-20fa-41f3-dcf9-bbb26f918ece"
      },
      "execution_count": null,
      "outputs": [
        {
          "output_type": "stream",
          "name": "stdout",
          "text": [
            "0 1 0 1 0 1 0 1 0 1 0 1 0 1 0 1 0 1 0 1 "
          ]
        }
      ]
    },
    {
      "cell_type": "markdown",
      "source": [
        "Циклы как можно видеть выше можно вкладывать друг в друга, обычно первые три цикла используют названия переменных $i, j, k$ если вам не нужно как то по особенному их обозначать"
      ],
      "metadata": {
        "id": "rUwvJNgvErDi"
      }
    },
    {
      "cell_type": "code",
      "source": [
        "for i in range(3):\n",
        "  for j in range(5):\n",
        "    for k in range(2):\n",
        "      print(\"{x} + {y} + {z} =\".format(x=i, y=j, z=k), i + j + k)"
      ],
      "metadata": {
        "id": "7HOSq42ME3UY"
      },
      "execution_count": null,
      "outputs": []
    },
    {
      "cell_type": "markdown",
      "source": [
        "Давайте выведем таблицу умножения для чисел от 1 до 10"
      ],
      "metadata": {
        "id": "Vh57lcBuFi2v"
      }
    },
    {
      "cell_type": "code",
      "source": [
        "for i in range(1, 100):\n",
        "  for j in range(1, 100):\n",
        "    print(i * j, end = '  ')\n",
        "  print()"
      ],
      "metadata": {
        "id": "wIWlctetFm2I"
      },
      "execution_count": null,
      "outputs": []
    },
    {
      "cell_type": "markdown",
      "source": [
        "Переменную по который вы итерируетесь нельзя просто так менять внутри цикла, но и хочется делать это редко. Также ключевые слова $break$ и $continue $ работают и для циклов $for$"
      ],
      "metadata": {
        "id": "AW_jlR41GiRi"
      }
    },
    {
      "cell_type": "code",
      "source": [
        "for i in range(10):\n",
        "  print(i, end = ' ')\n",
        "  i += 3 # Он забудет это после того как исполнит\n",
        "\n",
        "  if i == 7:\n",
        "    break\n",
        "print(\"\\nTHE END\")\n"
      ],
      "metadata": {
        "colab": {
          "base_uri": "https://localhost:8080/"
        },
        "id": "j7c78N43GhUN",
        "outputId": "ef3544a7-dc56-4e4e-b35d-3dcdf9f4a237"
      },
      "execution_count": null,
      "outputs": [
        {
          "output_type": "stream",
          "name": "stdout",
          "text": [
            "0 1 2 3 4 \n",
            "THE END\n"
          ]
        }
      ]
    },
    {
      "cell_type": "markdown",
      "source": [
        "Выведем английский алфавит"
      ],
      "metadata": {
        "id": "kuj9wmC3HVD0"
      }
    },
    {
      "cell_type": "code",
      "source": [
        "for i in range(97, 97 + 26, 25):\n",
        "  print(chr(i), end = ' ')"
      ],
      "metadata": {
        "colab": {
          "base_uri": "https://localhost:8080/"
        },
        "id": "yj_9PPUIHZro",
        "outputId": "77844a3e-0821-40aa-a0bc-b7703b61f739"
      },
      "execution_count": null,
      "outputs": [
        {
          "output_type": "stream",
          "name": "stdout",
          "text": [
            "a z "
          ]
        }
      ]
    },
    {
      "cell_type": "markdown",
      "source": [
        "Выведем таблицу ASCII и как компьютер видит символы(байтовое представление) которые не имеют аналога в качестве какой то красивой картинки."
      ],
      "metadata": {
        "id": "sjtYWd8LHptn"
      }
    },
    {
      "cell_type": "code",
      "source": [
        "for i in range(0, 128, 1):\n",
        "  print(chr(i), '=', chr(i).encode(\"ascii\"), end = '\\n', sep=' ')"
      ],
      "metadata": {
        "id": "BQDwrz_SHsQC"
      },
      "execution_count": null,
      "outputs": []
    },
    {
      "cell_type": "markdown",
      "source": [
        "Итерироватьс можно не только по range(), но и по строкам.\n",
        "К примеру:"
      ],
      "metadata": {
        "id": "CIAPusqsL11Q"
      }
    },
    {
      "cell_type": "code",
      "source": [
        "for i in \"Hello World\":\n",
        "  print(i, chr(ord(i) + 1))"
      ],
      "metadata": {
        "colab": {
          "base_uri": "https://localhost:8080/"
        },
        "id": "YFgqRe4xL7mB",
        "outputId": "97f270f7-58e6-4e8f-ebff-75702d025792"
      },
      "execution_count": null,
      "outputs": [
        {
          "output_type": "stream",
          "name": "stdout",
          "text": [
            "H I\n",
            "e f\n",
            "l m\n",
            "l m\n",
            "o p\n",
            "  !\n",
            "W X\n",
            "o p\n",
            "r s\n",
            "l m\n",
            "d e\n"
          ]
        }
      ]
    },
    {
      "cell_type": "markdown",
      "source": [
        "Подсчитать количество не пробельных символов в тексте."
      ],
      "metadata": {
        "id": "k7-AUnBnMOXz"
      }
    },
    {
      "cell_type": "markdown",
      "source": [
        "Откроем файлих, первый параметр это путь в вашем компьютере до файла, второй параметр это то что вы делаете с файлом, в данном случае я его не изменяю поэтому r, если писать, то нужно w"
      ],
      "metadata": {
        "id": "IGq6tStQOmJ_"
      }
    },
    {
      "cell_type": "markdown",
      "source": [
        "А теперь пройдем по его строкам и напечатаем их"
      ],
      "metadata": {
        "id": "iN7OswxOO1DB"
      }
    },
    {
      "cell_type": "code",
      "source": [
        "f = open(\"curr.txt\", \"r\")\n",
        "\n",
        "for i in f.readlines():\n",
        "  i.strip()\n",
        "  print(i, end='')\n"
      ],
      "metadata": {
        "colab": {
          "base_uri": "https://localhost:8080/"
        },
        "id": "TeYicpBFMOFL",
        "outputId": "d81f3318-aa08-4d69-f121-1707a54f57c4"
      },
      "execution_count": null,
      "outputs": [
        {
          "output_type": "stream",
          "name": "stdout",
          "text": [
            "A high school Show-and-Tell session explodes into a nightmare of evil...\n",
            "So you understand that when we\n",
            "increase the number of variables\n",
            "\n",
            "\n",
            "the axioms themselves never change.\n",
            "\n",
            "-Mrs. Jean Underwood\n",
            "\n",
            "Teacher, teacher, ring the bell,\n",
            "\n",
            "My lessons all to you I’ll tell,\n",
            "\n",
            "And when my day at school is through,\n",
            "\n",
            "I’ll know more than aught I knew.\n",
            "\n",
            "-Children’s rhyme, c. 1880\n",
            "\n",
            "Chapter 01\n",
            "\n",
            "\n",
            "The morning I got it on was nice; a nice May morning. What made it nice was that I’d\n",
            "kept my breakfast down, and the squirrel I spotted in Algebra II.\n",
            "\n",
            "I sat in the row farthest from the door, which is next to the windows, and I spotted the\n",
            "squirrel on the lawn. The lawn of Placerville High School is a very good one. It does not\n",
            "fuck around. It comes right up to the building and says howdy. No one, at least in my four\n",
            "years at PHS, has tried to push it away from the building with a bunch of flowerbeds or\n",
            "baby pine trees or any of that happy horseshit. It comes right up to the concrete\n",
            "foundation, and there it grows, like it or not. It is true that two years ago at a town meeting\n",
            "some bag proposed that the town build a pavilion in front of the school, complete with a\n",
            "memorial to honor the guys who went to Placerville High and then got bumped off in one\n",
            "war or another. My friend Joe McKennedy was there, and he said they gave her nothing\n",
            "but a hard way to go. I wish I had been there. The way Joe told it, it sounded like a real\n",
            "good time. Two years ago. To the best of my recollection, that was about the time I started\n",
            "to lose my mind.\"\n"
          ]
        }
      ]
    },
    {
      "cell_type": "code",
      "source": [
        "f = open(\"curr.txt\", \"r\")\n",
        "cnt = 0\n",
        "for i in f.readlines(): # Читаем построчно\n",
        "  for j in i: # i это строка, значит можем пройти по ее символам\n",
        "    if j == ' ': # Если символ не пробельный прибавим 1 к счетчику\n",
        "      cnt += 1\n",
        "\n",
        "print(cnt, \"не пробельных символов в файле\")"
      ],
      "metadata": {
        "colab": {
          "base_uri": "https://localhost:8080/"
        },
        "id": "3jnTQgB2O6Eg",
        "outputId": "615d115d-71a5-4038-b06d-18b3bd781c77"
      },
      "execution_count": null,
      "outputs": [
        {
          "output_type": "stream",
          "name": "stdout",
          "text": [
            "273 не пробельных символов в файле\n"
          ]
        }
      ]
    },
    {
      "cell_type": "code",
      "source": [
        "!wget https://royallib.com/get/txt/King_Stephen/Rage.zip\n"
      ],
      "metadata": {
        "colab": {
          "base_uri": "https://localhost:8080/"
        },
        "id": "dSz-5MDA3VCh",
        "outputId": "3fe6ebae-448d-45ed-8347-b3b61ce0a771"
      },
      "execution_count": null,
      "outputs": [
        {
          "output_type": "stream",
          "name": "stdout",
          "text": [
            "--2023-11-26 10:54:27--  https://royallib.com/get/txt/King_Stephen/Rage.zip\n",
            "Resolving royallib.com (royallib.com)... 92.255.111.13\n",
            "Connecting to royallib.com (royallib.com)|92.255.111.13|:443... connected.\n",
            "HTTP request sent, awaiting response... 200 OK\n",
            "Length: 414608 (405K) [application/octet-stream]\n",
            "Saving to: ‘Rage.zip’\n",
            "\n",
            "Rage.zip            100%[===================>] 404.89K   840KB/s    in 0.5s    \n",
            "\n",
            "2023-11-26 10:54:29 (840 KB/s) - ‘Rage.zip’ saved [414608/414608]\n",
            "\n"
          ]
        }
      ]
    },
    {
      "cell_type": "markdown",
      "source": [
        "Продолжаем форы"
      ],
      "metadata": {
        "id": "z5I713KPmpfX"
      }
    },
    {
      "cell_type": "code",
      "source": [],
      "metadata": {
        "id": "ecGrbMT8mo7h"
      },
      "execution_count": null,
      "outputs": []
    },
    {
      "cell_type": "code",
      "source": [],
      "metadata": {
        "id": "1cirozZHmpUp"
      },
      "execution_count": null,
      "outputs": []
    }
  ]
}
