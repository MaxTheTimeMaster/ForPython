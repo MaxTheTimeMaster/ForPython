{
  "nbformat": 4,
  "nbformat_minor": 0,
  "metadata": {
    "colab": {
      "provenance": [],
      "toc_visible": true,
      "authorship_tag": "ABX9TyMmzJs24g/Y8jB6M7i9hQQH",
      "include_colab_link": true
    },
    "kernelspec": {
      "name": "python3",
      "display_name": "Python 3"
    },
    "language_info": {
      "name": "python"
    }
  },
  "cells": [
    {
      "cell_type": "markdown",
      "metadata": {
        "id": "view-in-github",
        "colab_type": "text"
      },
      "source": [
        "<a href=\"https://colab.research.google.com/github/MaxTheTimeMaster/ForPython/blob/main/%D0%A1%D1%82%D1%80%D0%BE%D0%BA%D0%B8.ipynb\" target=\"_parent\"><img src=\"https://colab.research.google.com/assets/colab-badge.svg\" alt=\"Open In Colab\"/></a>"
      ]
    },
    {
      "cell_type": "markdown",
      "source": [
        "Немного поговорим дополнительно о методах строк (их достаточно много полезных, и они часто пригождаются когда пишешь код для какой то прикладной задачи)"
      ],
      "metadata": {
        "id": "OvQ-PDoaVLU7"
      }
    },
    {
      "cell_type": "markdown",
      "source": [
        "Напомню, что строки это просто набор символов которые идут подряд. Для обращения по какому то конкретному индексу мы пишем квадртаные скобочки и индекс."
      ],
      "metadata": {
        "id": "IqnLk1ynVqVE"
      }
    },
    {
      "cell_type": "code",
      "execution_count": null,
      "metadata": {
        "colab": {
          "base_uri": "https://localhost:8080/"
        },
        "id": "PTiNhNsiVGmn",
        "outputId": "d8ca96b0-e483-43d1-a665-c85f67b11ce3"
      },
      "outputs": [
        {
          "output_type": "stream",
          "name": "stdout",
          "text": [
            "H l\n"
          ]
        }
      ],
      "source": [
        "a = \"Hello World\"\n",
        "print(a[0], a[2])"
      ]
    },
    {
      "cell_type": "markdown",
      "source": [
        "Достаточно легко проверить если ли какая то строка/символ в нашей строке с помощью if и in"
      ],
      "metadata": {
        "id": "w-6T_jItWZln"
      }
    },
    {
      "cell_type": "code",
      "source": [
        "a = input() # Ввели строчку\n",
        "if \"Max\" in a: # Если в строке есть подстрока Max?\n",
        "  print(\"Helga\")\n",
        "else:\n",
        "  print(\"Sasha\")\n"
      ],
      "metadata": {
        "colab": {
          "base_uri": "https://localhost:8080/"
        },
        "id": "GyNAMCztWgUD",
        "outputId": "5cd21f16-5538-4266-bd12-16af17d71187"
      },
      "execution_count": null,
      "outputs": [
        {
          "output_type": "stream",
          "name": "stdout",
          "text": [
            "Max 57\n",
            "Helga\n"
          ]
        }
      ]
    },
    {
      "cell_type": "markdown",
      "source": [
        "Также можно сравнить строчки на равенство через обычное =="
      ],
      "metadata": {
        "id": "6zLVpsY4ZDgH"
      }
    },
    {
      "cell_type": "code",
      "source": [
        "s = \"Hello\"\n",
        "a = input()\n",
        "\n",
        "if a == s: # a = Hello?\n",
        "  print(\"Ты написал hello\")\n",
        "else:\n",
        "  print(\"Ну ты молодец конечно\")"
      ],
      "metadata": {
        "id": "xjw0d5AnZHfq"
      },
      "execution_count": null,
      "outputs": []
    },
    {
      "cell_type": "markdown",
      "source": [
        "Также достаточно легко пройти по всем символам строки, для этого есть два варианта."
      ],
      "metadata": {
        "id": "asutaX53WyS5"
      }
    },
    {
      "cell_type": "code",
      "source": [
        "a = \"My str\"\n",
        "for i in a: # i пробегает все символы от начала до конца строки\n",
        "  print(i, end=' ')\n",
        "\n",
        "a = \"My str\"\n",
        "n = len(a) # Длина строки\n",
        "for i in range(n): # i бежит от 0 до n - 1 с шагом 1\n",
        "  print(a[i], end=' ') # Берем индекс который бежит от 0 до n - 1"
      ],
      "metadata": {
        "id": "vtrjTJAuXKTT",
        "colab": {
          "base_uri": "https://localhost:8080/"
        },
        "outputId": "5017e381-347f-4c04-9581-79cda753e2b1"
      },
      "execution_count": 1,
      "outputs": [
        {
          "output_type": "stream",
          "name": "stdout",
          "text": [
            "M y   s t r M y   s t r "
          ]
        }
      ]
    },
    {
      "cell_type": "markdown",
      "source": [
        "Как можно модифицировать строки?\n",
        "Просто добавляем что то в конец с использованием знака +"
      ],
      "metadata": {
        "id": "DN7QpX9hYRiZ"
      }
    },
    {
      "cell_type": "markdown",
      "source": [
        "Например нам нужно выписать первую половину строчки четной длины"
      ],
      "metadata": {
        "id": "lRyGYWWjYkq3"
      }
    },
    {
      "cell_type": "code",
      "source": [
        "a = '' # Пустая строка\n",
        "a += 'g' # Первый символ g\n",
        "a += 'b' # Второ символ b\n",
        "print(a)\n",
        "\n",
        "st = input()\n",
        "n = len(st) # длина строки\n",
        "new_str = ''\n",
        "for i in range(n // 2):\n",
        "  sym = st[i] # Текущий символ\n",
        "  new_str += sym\n",
        "\n",
        "print(new_str)\n"
      ],
      "metadata": {
        "colab": {
          "base_uri": "https://localhost:8080/"
        },
        "id": "483DOPp1Ya9H",
        "outputId": "b9c4a38b-542a-41b2-af81-d90b95d8037f"
      },
      "execution_count": null,
      "outputs": [
        {
          "output_type": "stream",
          "name": "stdout",
          "text": [
            "gb\n",
            "abbbaa\n",
            "abb\n"
          ]
        }
      ]
    },
    {
      "cell_type": "markdown",
      "source": [
        "Допустим какие то данные вводятся через пробел, как обработать?"
      ],
      "metadata": {
        "id": "rRSTC-55ZzHi"
      }
    },
    {
      "cell_type": "code",
      "source": [
        "A = input()\n",
        "ls = A.split() # Мы разбиваем строку А по пробелам и получаем список строк\n",
        "print(ls)"
      ],
      "metadata": {
        "colab": {
          "base_uri": "https://localhost:8080/"
        },
        "id": "PO2KGKuBZyYZ",
        "outputId": "7a235a14-1d9d-4b1e-d662-b2ae723371d4"
      },
      "execution_count": null,
      "outputs": [
        {
          "output_type": "stream",
          "name": "stdout",
          "text": [
            "2 57 hello \n",
            "['2', '57', 'hello']\n"
          ]
        }
      ]
    },
    {
      "cell_type": "markdown",
      "source": [
        "А теперь пусть нам вводятся два числа в одной строке через пробел, как найти их сумму?"
      ],
      "metadata": {
        "id": "iVAHIkWjaOnk"
      }
    },
    {
      "cell_type": "code",
      "source": [
        "a = input() # Ввели строку\n",
        "ls = a.split() # Разбили ее по пробелам и удалили все пробелы\n",
        "first_num = int(ls[0])\n",
        "second_num = int(ls[1]) # Конвертируем строки в числа\n",
        "print(first_num + second_num)"
      ],
      "metadata": {
        "colab": {
          "base_uri": "https://localhost:8080/"
        },
        "id": "ET7L2n0baSxI",
        "outputId": "76c7df7d-01b2-4c96-8e48-f81e0e08be92"
      },
      "execution_count": null,
      "outputs": [
        {
          "output_type": "stream",
          "name": "stdout",
          "text": [
            "5 7\n",
            "12\n"
          ]
        }
      ]
    },
    {
      "cell_type": "markdown",
      "source": [
        "Это самое основное что можно делать со строками, обсудим более продвинутые методы."
      ],
      "metadata": {
        "id": "L617_f1TaqOk"
      }
    },
    {
      "cell_type": "markdown",
      "source": [
        "Как мы уже говорили можно взять срез у строки. То есть вырезать часть строки из строки."
      ],
      "metadata": {
        "id": "vl2SbgDxZyIQ"
      }
    },
    {
      "cell_type": "code",
      "source": [
        "a = \"Hello_world\"\n",
        "print(a[2:4]) # Пишется через двоеточие, в начале первый индекс который остается в строке, затем второй индекс до него включительно обрезают(то есть его тоже обрезают)\n",
        "print(a[0:5]) # С 0 символа по 5 не включая a[5] то есть нижнее подчеркивание.\n",
        "print(a[:3]) # Можно пропустить первое число, оно по умолчанию 0.\n"
      ],
      "metadata": {
        "colab": {
          "base_uri": "https://localhost:8080/"
        },
        "id": "tpZGHMm7a5Nc",
        "outputId": "43200ed2-b632-44c0-9d68-c19e6ce21f6e"
      },
      "execution_count": null,
      "outputs": [
        {
          "output_type": "stream",
          "name": "stdout",
          "text": [
            "ll\n",
            "Hello\n",
            "Hel\n"
          ]
        }
      ]
    },
    {
      "cell_type": "markdown",
      "source": [
        "Можно заменить все вхождения какой то подстроки на другую подстроку. \\\\\n",
        "Можно указать третий аргумент, это число замен которые мы делаем, все делается с начала строки."
      ],
      "metadata": {
        "id": "dPXf5ehwbtR1"
      }
    },
    {
      "cell_type": "code",
      "source": [
        "a = \"Hello my friend, Hello\"\n",
        "new_a = a.replace(\"Hello\", \"GG\")\n",
        "print(new_a)\n",
        "\n",
        "a = \"Hello my friend, Hello\"\n",
        "new_a = a.replace(\"Hello\", \"GG\", 1)\n",
        "print(new_a)\n",
        "\n",
        "# Можно убрать пробелы с помощью этого заменив их на пустую строчку\n",
        "a = \"Hello my friend\"\n",
        "b = a.replace(\" \", '')\n",
        "print(b)"
      ],
      "metadata": {
        "colab": {
          "base_uri": "https://localhost:8080/"
        },
        "id": "GV5NiXQib1lr",
        "outputId": "9f999693-41ea-4a33-d767-79270a8126be"
      },
      "execution_count": null,
      "outputs": [
        {
          "output_type": "stream",
          "name": "stdout",
          "text": [
            "GG my friend, GG\n",
            "GG my friend, Hello\n",
            "Hellomyfriend\n"
          ]
        }
      ]
    },
    {
      "cell_type": "markdown",
      "source": [
        "Можно привести все буквы которые есть в строке к верхнему или нижнему регистру."
      ],
      "metadata": {
        "id": "jpjuHzYEdovk"
      }
    },
    {
      "cell_type": "code",
      "source": [
        "a = \"Hello world\"\n",
        "b = a.lower() # Вниз все буквы\n",
        "c = a.upper() # Все буквы вверх\n",
        "print(b)\n",
        "print(c)"
      ],
      "metadata": {
        "colab": {
          "base_uri": "https://localhost:8080/"
        },
        "id": "Pmeo2kQwdthE",
        "outputId": "14f35400-5f13-45d9-96d7-8df505e350cf"
      },
      "execution_count": null,
      "outputs": [
        {
          "output_type": "stream",
          "name": "stdout",
          "text": [
            "hello world\n",
            "HELLO WORLD\n"
          ]
        }
      ]
    },
    {
      "cell_type": "markdown",
      "source": [],
      "metadata": {
        "id": "gN-omYFob0IM"
      }
    }
  ]
}