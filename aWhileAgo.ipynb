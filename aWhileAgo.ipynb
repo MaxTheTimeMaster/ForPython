{
  "nbformat": 4,
  "nbformat_minor": 0,
  "metadata": {
    "colab": {
      "provenance": [],
      "authorship_tag": "ABX9TyPn9OVOYrORLzH/FSA1HGHz",
      "include_colab_link": true
    },
    "kernelspec": {
      "name": "python3",
      "display_name": "Python 3"
    },
    "language_info": {
      "name": "python"
    }
  },
  "cells": [
    {
      "cell_type": "markdown",
      "metadata": {
        "id": "view-in-github",
        "colab_type": "text"
      },
      "source": [
        "<a href=\"https://colab.research.google.com/github/MaxTheTimeMaster/ForPython/blob/main/aWhileAgo.ipynb\" target=\"_parent\"><img src=\"https://colab.research.google.com/assets/colab-badge.svg\" alt=\"Open In Colab\"/></a>"
      ]
    },
    {
      "cell_type": "markdown",
      "source": [
        "Хотим делать что то до какого то момента, например прорисовывать картинку на мониторе бесконеченое число раз"
      ],
      "metadata": {
        "id": "OkKK97uGCFQH"
      }
    },
    {
      "cell_type": "markdown",
      "source": [
        "Или хотим предлагать пользователю вводить пароль пока он не введет правильный"
      ],
      "metadata": {
        "id": "y1V-29wECcBd"
      }
    },
    {
      "cell_type": "markdown",
      "source": [
        "На помощь приходит ключевое слово $while$."
      ],
      "metadata": {
        "id": "3O1JM7HqC_ps"
      }
    },
    {
      "cell_type": "markdown",
      "source": [
        "По факту это просто бесконечный if внутри которого что то происходит, по прежнему нужны отступы. Также желательно чтобы цикл был конечный, только в особых случаях стоит делать его бесконечным."
      ],
      "metadata": {
        "id": "ffGbH7HuDZLn"
      }
    },
    {
      "cell_type": "code",
      "source": [
        "while что-то:\n",
        "  делай что-то"
      ],
      "metadata": {
        "id": "5A5kyI1rC-6U"
      },
      "execution_count": null,
      "outputs": []
    },
    {
      "cell_type": "code",
      "execution_count": null,
      "metadata": {
        "id": "R6gynnxX82vs"
      },
      "outputs": [],
      "source": [
        "# Бесконечный цикл, не надо так делать...\n",
        "while True:\n",
        "  print(\"Hello\")"
      ]
    },
    {
      "cell_type": "code",
      "source": [
        "counter = 0\n",
        "# 10 итераций цикла\n",
        "while counter < 10:\n",
        "  print(\"Hello\")\n",
        "  counter += 11"
      ],
      "metadata": {
        "id": "PzFaJcauEqeh",
        "colab": {
          "base_uri": "https://localhost:8080/"
        },
        "outputId": "12f28081-5475-4c26-8ded-39da7c2bd608"
      },
      "execution_count": 6,
      "outputs": [
        {
          "output_type": "stream",
          "name": "stdout",
          "text": [
            "Hello\n"
          ]
        }
      ]
    },
    {
      "cell_type": "markdown",
      "source": [
        "Иногда хочется выйти из while насильно, для этого используется ключевое слово $break$"
      ],
      "metadata": {
        "id": "yLQ8lnSNFpEm"
      }
    },
    {
      "cell_type": "code",
      "source": [
        "\n",
        "while True:\n",
        "  a = int(input())\n",
        "\n",
        "  if a == 0:\n",
        "    print(\"Loop was interrupted by value 0\")\n",
        "    break\n",
        "print(\"Google.com\")"
      ],
      "metadata": {
        "colab": {
          "base_uri": "https://localhost:8080/",
          "height": 263
        },
        "id": "wGh_vt4yFYmq",
        "outputId": "2ade287d-4005-40c5-c554-930b334bf571"
      },
      "execution_count": 9,
      "outputs": [
        {
          "name": "stdout",
          "output_type": "stream",
          "text": [
            "5 6\n"
          ]
        },
        {
          "output_type": "error",
          "ename": "ValueError",
          "evalue": "ignored",
          "traceback": [
            "\u001b[0;31m---------------------------------------------------------------------------\u001b[0m",
            "\u001b[0;31mValueError\u001b[0m                                Traceback (most recent call last)",
            "\u001b[0;32m<ipython-input-9-45d3bba24eca>\u001b[0m in \u001b[0;36m<cell line: 1>\u001b[0;34m()\u001b[0m\n\u001b[1;32m      1\u001b[0m \u001b[0;32mwhile\u001b[0m \u001b[0;32mTrue\u001b[0m\u001b[0;34m:\u001b[0m\u001b[0;34m\u001b[0m\u001b[0;34m\u001b[0m\u001b[0m\n\u001b[0;32m----> 2\u001b[0;31m   \u001b[0ma\u001b[0m \u001b[0;34m=\u001b[0m \u001b[0mint\u001b[0m\u001b[0;34m(\u001b[0m\u001b[0minput\u001b[0m\u001b[0;34m(\u001b[0m\u001b[0;34m)\u001b[0m\u001b[0;34m)\u001b[0m\u001b[0;34m\u001b[0m\u001b[0;34m\u001b[0m\u001b[0m\n\u001b[0m\u001b[1;32m      3\u001b[0m \u001b[0;34m\u001b[0m\u001b[0m\n\u001b[1;32m      4\u001b[0m   \u001b[0;32mif\u001b[0m \u001b[0ma\u001b[0m \u001b[0;34m==\u001b[0m \u001b[0;36m0\u001b[0m\u001b[0;34m:\u001b[0m\u001b[0;34m\u001b[0m\u001b[0;34m\u001b[0m\u001b[0m\n\u001b[1;32m      5\u001b[0m     \u001b[0mprint\u001b[0m\u001b[0;34m(\u001b[0m\u001b[0;34m\"Loop was interrupted by value 0\"\u001b[0m\u001b[0;34m)\u001b[0m\u001b[0;34m\u001b[0m\u001b[0;34m\u001b[0m\u001b[0m\n",
            "\u001b[0;31mValueError\u001b[0m: invalid literal for int() with base 10: '5 6'"
          ]
        }
      ]
    },
    {
      "cell_type": "markdown",
      "source": [
        "Хотим продолжить $while$ как будто начали с начала, а стоим в середине, ключевое слово $continue$"
      ],
      "metadata": {
        "id": "ZjgJB3g_GDPN"
      }
    },
    {
      "cell_type": "markdown",
      "source": [
        "Например пользователь вводит строки до тех пор пока не введет слово stop, если в строке нету пробелов, то мы хотим напечатать строку, а если нет, то ничего не печать"
      ],
      "metadata": {
        "id": "ghrpygBOHR0_"
      }
    },
    {
      "cell_type": "code",
      "source": [
        "\n",
        "a = 1\n",
        "while a != 0:\n",
        "  a = input()\n",
        "\n",
        "  if ' ' in a:\n",
        "    continue\n",
        "\n",
        "  if a == \"stop\":\n",
        "    print(\"Programm was interrupted\")\n",
        "    break\n",
        "\n",
        "  print(a)\n"
      ],
      "metadata": {
        "colab": {
          "base_uri": "https://localhost:8080/"
        },
        "id": "1cnpKKwTGdhM",
        "outputId": "6b5ee121-78ef-46ca-94bb-ad33594a1ec9"
      },
      "execution_count": 11,
      "outputs": [
        {
          "output_type": "stream",
          "name": "stdout",
          "text": [
            "I am groot\n",
            "Iam\n",
            "Iam\n",
            "stop\n",
            "Programm was interrupted\n"
          ]
        }
      ]
    },
    {
      "cell_type": "markdown",
      "source": [
        "Мы хотим зарегистрировать пользователя в нашей базе данных, для этого ему нужно ввести логин и пароль, а затем подтвердить пароль, нужно написать программу которая будет запрашивать эти данные до тех пор пока пароль не будет подтвержден"
      ],
      "metadata": {
        "id": "3dYnXHsziRSP"
      }
    },
    {
      "cell_type": "code",
      "source": [
        "print(\"Enter username\")\n",
        "\n",
        "user_name = input()\n",
        "print(\"Enter password\")\n",
        "password = input()\n",
        "print(\"Validate password\")\n",
        "ps = input()\n",
        "counter = 0\n",
        "\n",
        "g = False\n",
        "\n",
        "if not False:\n",
        "  print(\"\")\n",
        "\n",
        "g = 1\n",
        "g = 0\n",
        "\n",
        "if g == 1:\n",
        "  print(g)\n",
        "\n",
        "\n",
        "# cnt = 0\n",
        "\n",
        "while ps != password:\n",
        "  print(\"Entered password has diffreneces with previous one, try again, у вас осталось {x} попыток\".format(x = 4 - counter)) # Пароли отличаются пытаемся запросить пароль еще раз\n",
        "\n",
        "  counter += 1\n",
        "\n",
        "  if counter == 5:\n",
        "    break\n",
        "\n",
        "  ps = input()\n",
        "\n",
        "  # cnt += 1\n",
        "  # if cnt?? do\n",
        "\n",
        "if counter == 5:\n",
        "    print(\"Error\")\n",
        "else:\n",
        "    print(\"Succesfully registered to system\")\n"
      ],
      "metadata": {
        "id": "1gAvOMaKijCm",
        "colab": {
          "base_uri": "https://localhost:8080/",
          "height": 443
        },
        "outputId": "62c2fb5d-c035-44f9-c589-da21a9873c2b"
      },
      "execution_count": 19,
      "outputs": [
        {
          "output_type": "stream",
          "name": "stdout",
          "text": [
            "Enter username\n",
            "Max\n",
            "Enter password\n"
          ]
        },
        {
          "output_type": "error",
          "ename": "KeyboardInterrupt",
          "evalue": "ignored",
          "traceback": [
            "\u001b[0;31m---------------------------------------------------------------------------\u001b[0m",
            "\u001b[0;31mKeyboardInterrupt\u001b[0m                         Traceback (most recent call last)",
            "\u001b[0;32m<ipython-input-19-f2276bc50606>\u001b[0m in \u001b[0;36m<cell line: 5>\u001b[0;34m()\u001b[0m\n\u001b[1;32m      3\u001b[0m \u001b[0muser_name\u001b[0m \u001b[0;34m=\u001b[0m \u001b[0minput\u001b[0m\u001b[0;34m(\u001b[0m\u001b[0;34m)\u001b[0m\u001b[0;34m\u001b[0m\u001b[0;34m\u001b[0m\u001b[0m\n\u001b[1;32m      4\u001b[0m \u001b[0mprint\u001b[0m\u001b[0;34m(\u001b[0m\u001b[0;34m\"Enter password\"\u001b[0m\u001b[0;34m)\u001b[0m\u001b[0;34m\u001b[0m\u001b[0;34m\u001b[0m\u001b[0m\n\u001b[0;32m----> 5\u001b[0;31m \u001b[0mpassword\u001b[0m \u001b[0;34m=\u001b[0m \u001b[0minput\u001b[0m\u001b[0;34m(\u001b[0m\u001b[0;34m)\u001b[0m\u001b[0;34m\u001b[0m\u001b[0;34m\u001b[0m\u001b[0m\n\u001b[0m\u001b[1;32m      6\u001b[0m \u001b[0mprint\u001b[0m\u001b[0;34m(\u001b[0m\u001b[0;34m\"Validate password\"\u001b[0m\u001b[0;34m)\u001b[0m\u001b[0;34m\u001b[0m\u001b[0;34m\u001b[0m\u001b[0m\n\u001b[1;32m      7\u001b[0m \u001b[0mps\u001b[0m \u001b[0;34m=\u001b[0m \u001b[0minput\u001b[0m\u001b[0;34m(\u001b[0m\u001b[0;34m)\u001b[0m\u001b[0;34m\u001b[0m\u001b[0;34m\u001b[0m\u001b[0m\n",
            "\u001b[0;32m/usr/local/lib/python3.10/dist-packages/ipykernel/kernelbase.py\u001b[0m in \u001b[0;36mraw_input\u001b[0;34m(self, prompt)\u001b[0m\n\u001b[1;32m    849\u001b[0m                 \u001b[0;34m\"raw_input was called, but this frontend does not support input requests.\"\u001b[0m\u001b[0;34m\u001b[0m\u001b[0;34m\u001b[0m\u001b[0m\n\u001b[1;32m    850\u001b[0m             )\n\u001b[0;32m--> 851\u001b[0;31m         return self._input_request(str(prompt),\n\u001b[0m\u001b[1;32m    852\u001b[0m             \u001b[0mself\u001b[0m\u001b[0;34m.\u001b[0m\u001b[0m_parent_ident\u001b[0m\u001b[0;34m,\u001b[0m\u001b[0;34m\u001b[0m\u001b[0;34m\u001b[0m\u001b[0m\n\u001b[1;32m    853\u001b[0m             \u001b[0mself\u001b[0m\u001b[0;34m.\u001b[0m\u001b[0m_parent_header\u001b[0m\u001b[0;34m,\u001b[0m\u001b[0;34m\u001b[0m\u001b[0;34m\u001b[0m\u001b[0m\n",
            "\u001b[0;32m/usr/local/lib/python3.10/dist-packages/ipykernel/kernelbase.py\u001b[0m in \u001b[0;36m_input_request\u001b[0;34m(self, prompt, ident, parent, password)\u001b[0m\n\u001b[1;32m    893\u001b[0m             \u001b[0;32mexcept\u001b[0m \u001b[0mKeyboardInterrupt\u001b[0m\u001b[0;34m:\u001b[0m\u001b[0;34m\u001b[0m\u001b[0;34m\u001b[0m\u001b[0m\n\u001b[1;32m    894\u001b[0m                 \u001b[0;31m# re-raise KeyboardInterrupt, to truncate traceback\u001b[0m\u001b[0;34m\u001b[0m\u001b[0;34m\u001b[0m\u001b[0m\n\u001b[0;32m--> 895\u001b[0;31m                 \u001b[0;32mraise\u001b[0m \u001b[0mKeyboardInterrupt\u001b[0m\u001b[0;34m(\u001b[0m\u001b[0;34m\"Interrupted by user\"\u001b[0m\u001b[0;34m)\u001b[0m \u001b[0;32mfrom\u001b[0m \u001b[0;32mNone\u001b[0m\u001b[0;34m\u001b[0m\u001b[0;34m\u001b[0m\u001b[0m\n\u001b[0m\u001b[1;32m    896\u001b[0m             \u001b[0;32mexcept\u001b[0m \u001b[0mException\u001b[0m \u001b[0;32mas\u001b[0m \u001b[0me\u001b[0m\u001b[0;34m:\u001b[0m\u001b[0;34m\u001b[0m\u001b[0;34m\u001b[0m\u001b[0m\n\u001b[1;32m    897\u001b[0m                 \u001b[0mself\u001b[0m\u001b[0;34m.\u001b[0m\u001b[0mlog\u001b[0m\u001b[0;34m.\u001b[0m\u001b[0mwarning\u001b[0m\u001b[0;34m(\u001b[0m\u001b[0;34m\"Invalid Message:\"\u001b[0m\u001b[0;34m,\u001b[0m \u001b[0mexc_info\u001b[0m\u001b[0;34m=\u001b[0m\u001b[0;32mTrue\u001b[0m\u001b[0;34m)\u001b[0m\u001b[0;34m\u001b[0m\u001b[0;34m\u001b[0m\u001b[0m\n",
            "\u001b[0;31mKeyboardInterrupt\u001b[0m: Interrupted by user"
          ]
        }
      ]
    },
    {
      "cell_type": "markdown",
      "source": [
        "Может пригодиться, как округлить число в большую сторону при делении $a$ на $b$?"
      ],
      "metadata": {
        "id": "9nMlBdDUJqvV"
      }
    },
    {
      "cell_type": "code",
      "source": [
        "g = 0\n",
        "g = 1\n",
        "\n",
        "a = input()\n",
        "b =  input()\n",
        "\n",
        "c = len(a)\n",
        "v = len(b)\n",
        "\n",
        "g = v > c\n",
        "print(g)"
      ],
      "metadata": {
        "colab": {
          "base_uri": "https://localhost:8080/"
        },
        "id": "HSNgou3cxfkp",
        "outputId": "a0bddc70-1193-429a-bb50-893eba2dd396"
      },
      "execution_count": 22,
      "outputs": [
        {
          "output_type": "stream",
          "name": "stdout",
          "text": [
            "dwfgteh\n",
            "4\n",
            "False\n"
          ]
        }
      ]
    },
    {
      "cell_type": "markdown",
      "source": [
        "25 / 10"
      ],
      "metadata": {
        "id": "lDP4UOcnvSOa"
      }
    },
    {
      "cell_type": "code",
      "source": [
        "import math\n",
        "\n",
        "a = int(input())\n",
        "b = int(input())\n",
        "\n",
        "\n",
        "if a % b == 0:\n",
        "  ans = a // b\n",
        "  # Если делится нацело ничего не надо округлять\n",
        "else:\n",
        "  ans = (a // b) + 1\n",
        "  # Если не делится нацело, то целая часть меньше чем само число,\n",
        "  # которое получается при делении, поэтому надо прибавить 1\n",
        "print(ans)"
      ],
      "metadata": {
        "id": "Bo2Yi3x1MWR8",
        "colab": {
          "base_uri": "https://localhost:8080/"
        },
        "outputId": "80b6e5c6-3838-44d1-801d-a9144d90a9b0"
      },
      "execution_count": 18,
      "outputs": [
        {
          "output_type": "stream",
          "name": "stdout",
          "text": [
            "25\n",
            "10\n",
            "3\n"
          ]
        }
      ]
    },
    {
      "cell_type": "code",
      "source": [
        "\n",
        "\n"
      ],
      "metadata": {
        "colab": {
          "base_uri": "https://localhost:8080/"
        },
        "id": "Nrg6T7fxk0Lv",
        "outputId": "5ffb65b4-974a-495f-9982-1a785302d847"
      },
      "execution_count": null,
      "outputs": [
        {
          "output_type": "stream",
          "name": "stdout",
          "text": [
            "c4 c5\n",
            "c4 c5\n",
            "c\n"
          ]
        }
      ]
    }
  ]
}