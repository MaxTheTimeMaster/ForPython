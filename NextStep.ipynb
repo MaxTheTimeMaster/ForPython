{
  "nbformat": 4,
  "nbformat_minor": 0,
  "metadata": {
    "colab": {
      "provenance": [],
      "authorship_tag": "ABX9TyP2VgFiThCgJCPGTcA4ctZ8",
      "include_colab_link": true
    },
    "kernelspec": {
      "name": "python3",
      "display_name": "Python 3"
    },
    "language_info": {
      "name": "python"
    }
  },
  "cells": [
    {
      "cell_type": "markdown",
      "metadata": {
        "id": "view-in-github",
        "colab_type": "text"
      },
      "source": [
        "<a href=\"https://colab.research.google.com/github/MaxTheTimeMaster/ForPython/blob/main/NextStep.ipynb\" target=\"_parent\"><img src=\"https://colab.research.google.com/assets/colab-badge.svg\" alt=\"Open In Colab\"/></a>"
      ]
    },
    {
      "cell_type": "markdown",
      "source": [
        "Немного повторения \\\n",
        "$ord(символ)$ - выдает номер символа в таблице ASCII \\\n",
        "$chr(число)$ - выдает символ по номеру в таблице ASCII \\\n",
        "$chr(97)$ = 'a' \\\n",
        "$ord('a')$ = 97 \\\n",
        "$ord('b')$ = 98 \\\n",
        "$chr(99)$ = 'c' \\\n",
        "$ord('$ $')$ = 32 \\"
      ],
      "metadata": {
        "id": "BkpEi4Q_VrY_"
      }
    },
    {
      "cell_type": "code",
      "execution_count": null,
      "metadata": {
        "colab": {
          "base_uri": "https://localhost:8080/"
        },
        "id": "9ZuyJWfqhzjF",
        "outputId": "3a26b4f7-77e3-4b03-89a6-5977dc91bb49"
      },
      "outputs": [
        {
          "output_type": "stream",
          "name": "stdout",
          "text": [
            "99 d\n",
            "eeeeeeee\n"
          ]
        }
      ],
      "source": [
        "a = ord('c')\n",
        "print(a, chr(a + 1))\n",
        "print(chr(a + 2) * 8)"
      ]
    },
    {
      "cell_type": "markdown",
      "source": [
        "Как превратить строку \"999\" в число???? \\\n",
        "Функция которая переводит строку в число это\\\n",
        "$int(строка)$   \n",
        "Выдает вам число которое лежало в строке"
      ],
      "metadata": {
        "id": "cfmUvK0YiI-w"
      }
    },
    {
      "cell_type": "code",
      "source": [
        "s = '999'\n",
        "s2 = '57'\n",
        "s3 = \"01010\"\n",
        "print(s + s2)\n",
        "s = int(s)\n",
        "s2 = int(s2)\n",
        "print(s + s2)"
      ],
      "metadata": {
        "colab": {
          "base_uri": "https://localhost:8080/"
        },
        "id": "jKacalwKiOIV",
        "outputId": "a90a67ec-a99a-4068-8bac-f0c0e89ca9a5"
      },
      "execution_count": null,
      "outputs": [
        {
          "output_type": "stream",
          "name": "stdout",
          "text": [
            "99957\n",
            "1056\n"
          ]
        }
      ]
    },
    {
      "cell_type": "markdown",
      "source": [
        "Строка это просто набор символов выписанных подряд. Например 'abc abc' или '999'"
      ],
      "metadata": {
        "id": "eZfN6yTbVqY0"
      }
    },
    {
      "cell_type": "code",
      "source": [
        "print(ord('a'))\n",
        "print(ord('0'))"
      ],
      "metadata": {
        "colab": {
          "base_uri": "https://localhost:8080/"
        },
        "id": "2kROs340arFf",
        "outputId": "6bc689ce-91a5-4b6b-d1a2-39f97d2c457f"
      },
      "execution_count": null,
      "outputs": [
        {
          "output_type": "stream",
          "name": "stdout",
          "text": [
            "97\n",
            "48\n"
          ]
        }
      ]
    },
    {
      "cell_type": "markdown",
      "source": [
        "Мы хотим взять пятый символ у строчки, делается это так: \\\n",
        "$sym = s[5 - 1]$ (напоминаю нумерация с 0 идет, то есть у первого символа номер 0) или $sym = s[4]$.\\\n",
        "Теперь у нас в переменной sym лежит пятый символ.\n"
      ],
      "metadata": {
        "id": "9HDG8IHja0qw"
      }
    },
    {
      "cell_type": "code",
      "source": [
        "s = 'abc abc'\n",
        "sym = s[4]\n",
        "print(sym)"
      ],
      "metadata": {
        "colab": {
          "base_uri": "https://localhost:8080/"
        },
        "id": "ZFX1ME5YZ2Ot",
        "outputId": "8dadda3b-221f-4b8f-bf51-0c404b3bf45a"
      },
      "execution_count": null,
      "outputs": [
        {
          "output_type": "stream",
          "name": "stdout",
          "text": [
            "a\n"
          ]
        }
      ]
    },
    {
      "cell_type": "markdown",
      "source": [
        "Как уже говорилось строки можно складывать обычной операцией +, потом ее нужно куда то положить например."
      ],
      "metadata": {
        "id": "R62y65oRb88-"
      }
    },
    {
      "cell_type": "code",
      "source": [
        "s1 = \"Hello\"\n",
        "s2 = \"World\"\n",
        "s1 + s2 # Ничего не делает\n",
        "s3 = s1 + s2 # Записывает вашу сумму в строку s3\n",
        "print(s3)"
      ],
      "metadata": {
        "colab": {
          "base_uri": "https://localhost:8080/"
        },
        "id": "n9i0TToXcIxU",
        "outputId": "dde71838-bf4f-4ca2-e095-e83e5badd20c"
      },
      "execution_count": null,
      "outputs": [
        {
          "output_type": "stream",
          "name": "stdout",
          "text": [
            "HelloWorld\n"
          ]
        }
      ]
    },
    {
      "cell_type": "markdown",
      "source": [
        "Можно прибавлять символы явно"
      ],
      "metadata": {
        "id": "Lz3TEW9Pca7H"
      }
    },
    {
      "cell_type": "code",
      "source": [
        "s1 = \"Hello\"\n",
        "s2 = s1 + \" \" # \"Hello \"\n",
        "s3 = s2 + \"W\" # \"Hello W\"\n",
        "s3 = s3 + \"orld\" # \"Hello World\"\n",
        "print(s3)"
      ],
      "metadata": {
        "colab": {
          "base_uri": "https://localhost:8080/"
        },
        "id": "XLawg8MXcegk",
        "outputId": "365e1ece-1375-415c-a4bb-d28ae1c18771"
      },
      "execution_count": null,
      "outputs": [
        {
          "output_type": "stream",
          "name": "stdout",
          "text": [
            "Hello World\n"
          ]
        }
      ]
    },
    {
      "cell_type": "markdown",
      "source": [
        "Как утроить первый символ у строки?"
      ],
      "metadata": {
        "id": "nVj6tlyhc1V9"
      }
    },
    {
      "cell_type": "code",
      "source": [
        "s = \"Goodbye my friend\"\n",
        "sym = s[0]\n",
        "s2 = sym + sym + s\n",
        "print(s2)"
      ],
      "metadata": {
        "colab": {
          "base_uri": "https://localhost:8080/"
        },
        "id": "Z-Zn8PTnc5HO",
        "outputId": "26cf9291-a8f3-4838-c199-88473e7dc8f3"
      },
      "execution_count": null,
      "outputs": [
        {
          "output_type": "stream",
          "name": "stdout",
          "text": [
            "GGGoodbye my friend\n"
          ]
        }
      ]
    },
    {
      "cell_type": "markdown",
      "source": [
        "Как взять последний символ?\n",
        "Тут нужна функция с которой мы еще не встречались, называется len() \\\n",
        "$len(строка)$ = Длина строки"
      ],
      "metadata": {
        "id": "SS-kkh8IdKpF"
      }
    },
    {
      "cell_type": "code",
      "source": [
        "s = \"MyTestString\"\n",
        "print(len(s))\n",
        "s2 = s[len(s) - 1]"
      ],
      "metadata": {
        "colab": {
          "base_uri": "https://localhost:8080/"
        },
        "id": "2oryX0xtdNvM",
        "outputId": "9e53955a-a177-4b6f-8cc6-311a1471a8cd"
      },
      "execution_count": null,
      "outputs": [
        {
          "output_type": "stream",
          "name": "stdout",
          "text": [
            "12\n"
          ]
        }
      ]
    },
    {
      "cell_type": "markdown",
      "source": [
        "Тогда последний элемент имеет номер 12 по нормальной нумерации, но поскольку нумерация с 0, то его номер будет 11"
      ],
      "metadata": {
        "id": "6j52bAcBdl35"
      }
    },
    {
      "cell_type": "code",
      "source": [
        "s = \"MyTestString\"\n",
        "print(s[11])"
      ],
      "metadata": {
        "colab": {
          "base_uri": "https://localhost:8080/"
        },
        "id": "6USGQverdjYp",
        "outputId": "424434aa-0696-4bcb-cbeb-6915dbc76ef9"
      },
      "execution_count": null,
      "outputs": [
        {
          "output_type": "stream",
          "name": "stdout",
          "text": [
            "g\n"
          ]
        }
      ]
    },
    {
      "cell_type": "markdown",
      "source": [
        "Утроим символ как в прошлой задаче утраивали первый"
      ],
      "metadata": {
        "id": "sQycWxQyd2X8"
      }
    },
    {
      "cell_type": "code",
      "source": [
        "# Your code here\n",
        "s = input()\n",
        "b = len(s)\n",
        "sym = s[b - 1]\n",
        "s2 = s + sym + sym\n",
        "print(s2)"
      ],
      "metadata": {
        "id": "4_7h7_w0d5QK",
        "colab": {
          "base_uri": "https://localhost:8080/"
        },
        "outputId": "18cae63e-4b99-4268-8b6c-fb9e325aca26"
      },
      "execution_count": null,
      "outputs": [
        {
          "output_type": "stream",
          "name": "stdout",
          "text": [
            "Hello\n",
            "Hellooo\n"
          ]
        }
      ]
    },
    {
      "cell_type": "markdown",
      "source": [
        "**Срезы**"
      ],
      "metadata": {
        "id": "jWwwnkRJd_ZX"
      }
    },
    {
      "cell_type": "markdown",
      "source": [
        "Строки можно резать так как вы хотите, для этого используется специальный синтаксис $s[a:b:c]$ \\\n",
        "Где a, b, c это числа обозначающие следующее: \\\n",
        "a - начиная с какого символа брать срез \\\n",
        "b - заканчивая каким символом брать срез \\\n",
        "c - шаг среза, можно опустить и не писать равен 1 по дефолту то есть идем подряд"
      ],
      "metadata": {
        "id": "mposnuAoeHQ9"
      }
    },
    {
      "cell_type": "markdown",
      "source": [
        "Пример, вы хотите взять все символы кроме первых двух в строке"
      ],
      "metadata": {
        "id": "qHzWRs1xer8E"
      }
    },
    {
      "cell_type": "code",
      "source": [
        "s = \"HelloAgain\"\n",
        "s2 = s[2:len(s):1]\n",
        "print(s2)\n",
        "s2 = s[2:len(s)] # Опускаем шаг\n",
        "print(s2)\n",
        "s2 = s[2:]\n",
        "print(s2)"
      ],
      "metadata": {
        "colab": {
          "base_uri": "https://localhost:8080/"
        },
        "id": "2B4JN4eFeyw3",
        "outputId": "168d43c4-5479-4574-c75b-0f4883a0d1ec"
      },
      "execution_count": null,
      "outputs": [
        {
          "output_type": "stream",
          "name": "stdout",
          "text": [
            "lloAgain\n",
            "lloAgain\n",
            "lloAgain\n"
          ]
        }
      ]
    },
    {
      "cell_type": "markdown",
      "source": [
        "Отрубить посдение два символа строки"
      ],
      "metadata": {
        "id": "UcFIE6QyfaAr"
      }
    },
    {
      "cell_type": "code",
      "source": [
        "s = \"HelloAgain\"\n",
        "s2 = s[0:len(s) - 2:1]\n",
        "print(s2)\n",
        "s2 = s[0:len(s) - 2] # Опускаем шаг\n",
        "print(s2)\n",
        "s2 = s[0:-2]\n",
        "print(s2)"
      ],
      "metadata": {
        "colab": {
          "base_uri": "https://localhost:8080/"
        },
        "id": "4IAZj5YrfdSN",
        "outputId": "ec972653-eea9-4ac2-de23-2ef8ba4663df"
      },
      "execution_count": null,
      "outputs": [
        {
          "output_type": "stream",
          "name": "stdout",
          "text": [
            "HelloAga\n",
            "HelloAga\n",
            "HelloAga\n"
          ]
        }
      ]
    },
    {
      "cell_type": "markdown",
      "source": [
        "Сделать это одновременно"
      ],
      "metadata": {
        "id": "1W7YKnOkfjBl"
      }
    },
    {
      "cell_type": "code",
      "source": [
        "s = \"HelloAgain\"\n",
        "s2 = s[len(s):0:-1]\n",
        "s2 = s[1: len(s) + 1: -1]\n",
        "print(s2)\n",
        "s2 = s[2:len(s) - 2] # Опускаем шаг\n",
        "print(s2)"
      ],
      "metadata": {
        "colab": {
          "base_uri": "https://localhost:8080/"
        },
        "id": "IdSOyG3PfmDd",
        "outputId": "b36b1a1f-84e0-4f98-de71-871e79f2da01"
      },
      "execution_count": null,
      "outputs": [
        {
          "output_type": "stream",
          "name": "stdout",
          "text": [
            "\n",
            "lloAga\n"
          ]
        }
      ]
    },
    {
      "cell_type": "markdown",
      "source": [
        "Немного о магической строчке которую мы пишем когда хотим считать много всего из строки"
      ],
      "metadata": {
        "id": "ZnIo6CWbf1mh"
      }
    },
    {
      "cell_type": "markdown",
      "source": [
        "Функция split() которая пишется через точку для строки s, разбивает строку по пробелам на подстроки, чтобы обратиться к строке с номером i нужно написать s2[i]"
      ],
      "metadata": {
        "id": "YgsbkfGXgEIj"
      }
    },
    {
      "cell_type": "code",
      "source": [
        "s = \"My String Good Game Well Played 99\"\n",
        "s2 = s.split()\n",
        "print(s2)\n",
        "print(s2[0])\n",
        "print(s2[1])\n",
        "print(s2[len(s2) - 1], \" ----->Подвох тут есть, Вопрос, а что написано здесь, это строка или число?\")\n",
        "\n",
        "#print(type(s2[len(s2)-  1]), \"...\")"
      ],
      "metadata": {
        "id": "-fjuVHXqgKlF"
      },
      "execution_count": null,
      "outputs": []
    },
    {
      "cell_type": "markdown",
      "source": [
        "Нам дали два слова через пробел, как получить их?"
      ],
      "metadata": {
        "id": "rGWi8ce8gbEm"
      }
    },
    {
      "cell_type": "code",
      "source": [
        "s = input()\n",
        "s2 = s.split()\n",
        "first = s2[0]\n",
        "second = s2[1]\n",
        "print(first)\n",
        "print(second)"
      ],
      "metadata": {
        "colab": {
          "base_uri": "https://localhost:8080/"
        },
        "id": "0_hyDkoZf7LI",
        "outputId": "fd260249-8985-4818-befd-198e6b0753a4"
      },
      "execution_count": null,
      "outputs": [
        {
          "output_type": "stream",
          "name": "stdout",
          "text": [
            "abc fgf\n",
            "abc\n",
            "fgf\n"
          ]
        }
      ]
    },
    {
      "cell_type": "markdown",
      "source": [
        "Нам дали три числа через пробел?"
      ],
      "metadata": {
        "id": "Fu2D_tUchi1Q"
      }
    },
    {
      "cell_type": "code",
      "source": [
        "s = input()\n",
        "s2 = s.split()\n",
        "first = int(s2[0])\n",
        "second = int(s2[1])\n",
        "third = int(s2[2])\n",
        "print(first)\n",
        "print(second)\n",
        "print(third)"
      ],
      "metadata": {
        "colab": {
          "base_uri": "https://localhost:8080/"
        },
        "id": "X7it9PgWhlKe",
        "outputId": "34cdd80b-4d34-47d1-cd13-2898196b1b81"
      },
      "execution_count": null,
      "outputs": [
        {
          "output_type": "stream",
          "name": "stdout",
          "text": [
            "1 2 3\n",
            "1\n",
            "2\n",
            "3\n"
          ]
        }
      ]
    },
    {
      "cell_type": "markdown",
      "source": [
        "Слово и число через пробел?"
      ],
      "metadata": {
        "id": "zQu65BdPh0IR"
      }
    },
    {
      "cell_type": "code",
      "source": [
        "# Your code here"
      ],
      "metadata": {
        "id": "y8XnI2Beh4Kq"
      },
      "execution_count": null,
      "outputs": []
    },
    {
      "cell_type": "markdown",
      "source": [
        "А что если хотим уметь проверять условия?? \\\n",
        "Например пользователь вводит нам четырехзначный код.\\\n",
        "Хотим проверить что это не $1234$ или $1111$ ведь они слишком простые..."
      ],
      "metadata": {
        "id": "T7-RED1NixIk"
      }
    },
    {
      "cell_type": "markdown",
      "source": [
        "На помощь приходит оператор if \\\n",
        "if условие которое хотите проверить а затем двоеточие \\\n",
        "if я хочу есть:\\\n",
        "$\\space \\space \\space \\space я \\space иду \\space есть$"
      ],
      "metadata": {
        "id": "r4-E4ietjSD8"
      }
    },
    {
      "cell_type": "code",
      "source": [
        "# Операторы сравнения\n",
        "# больше >\n",
        "# меньше <\n",
        "# равно ==\n",
        "# не равно !=\n",
        "# True - правда\n",
        "# False - ложь"
      ],
      "metadata": {
        "id": "hEXHwahSkVFt"
      },
      "execution_count": null,
      "outputs": []
    },
    {
      "cell_type": "code",
      "source": [
        "if True:\n",
        "  print(\"Это всегда правда!!!\")\n",
        "\n",
        "if False:\n",
        "  print(\"Не может быть, это же ложь...\")"
      ],
      "metadata": {
        "colab": {
          "base_uri": "https://localhost:8080/"
        },
        "id": "6LHGbdfdks2J",
        "outputId": "7dbb55dd-1d61-4c60-d7cd-a79fa54f4cfd"
      },
      "execution_count": null,
      "outputs": [
        {
          "output_type": "stream",
          "name": "stdout",
          "text": [
            "Это всегда правда!!!\n"
          ]
        }
      ]
    },
    {
      "cell_type": "code",
      "source": [
        "code = int(input())\n",
        "\n",
        "if code == 1111: # Все что внутри ифа пишем с отступом на 4 пробела!\n",
        "  print(\"Слишком просто\")\n",
        "\n",
        "if code == 1234: # Чтобы сравнить два числа на равенство используем оператор ==\n",
        "  print(\"Слишком просто\")\n"
      ],
      "metadata": {
        "colab": {
          "base_uri": "https://localhost:8080/"
        },
        "id": "nhmk3H8QjYUH",
        "outputId": "995e8d56-dafe-48a5-f972-cb787b6cec5a"
      },
      "execution_count": null,
      "outputs": [
        {
          "name": "stdout",
          "output_type": "stream",
          "text": [
            "4567\n"
          ]
        }
      ]
    }
  ]
}